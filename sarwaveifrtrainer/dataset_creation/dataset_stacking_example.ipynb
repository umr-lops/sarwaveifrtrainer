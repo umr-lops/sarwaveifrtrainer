{
 "cells": [
  {
   "cell_type": "code",
   "execution_count": null,
   "id": "c73289b9",
   "metadata": {
    "tags": []
   },
   "outputs": [],
   "source": [
    "from preformatting_tools import select_csv_files, create_dataframe, get_safename\n",
    "from distributed import Client"
   ]
  },
  {
   "cell_type": "markdown",
   "id": "7c095bd5",
   "metadata": {},
   "source": [
    "# **Create raw dataframes**"
   ]
  },
  {
   "cell_type": "code",
   "execution_count": null,
   "id": "64719d4a",
   "metadata": {
    "tags": []
   },
   "outputs": [],
   "source": [
    "root_path = 'path'"
   ]
  },
  {
   "cell_type": "code",
   "execution_count": null,
   "id": "e4ac3017",
   "metadata": {
    "tags": []
   },
   "outputs": [],
   "source": [
    "# Use a client to speed up process\n",
    "client = Client()"
   ]
  },
  {
   "cell_type": "code",
   "execution_count": null,
   "id": "c75f7663",
   "metadata": {
    "tags": []
   },
   "outputs": [],
   "source": [
    "intraburst_vv_files = select_csv_files(root_path, 'vv', 'intraburst')\n",
    "\n",
    "df_intraburst_vv = create_dataframe(client, intraburst_vv_files)\n",
    "df_intraburst_vv = df_intraburst_vv.drop(columns=['Unnamed: 0']).dropna().reset_index(drop=True)\n",
    "df_intraburst_vv['safe'] = df_intraburst_vv['file_path'].map(get_safename)\n",
    "\n",
    "df_intraburst_vv.to_csv('/raw/intraburst/intrabursts_vv.csv', index=False)"
   ]
  },
  {
   "cell_type": "code",
   "execution_count": null,
   "id": "74f52b7f",
   "metadata": {
    "tags": []
   },
   "outputs": [],
   "source": [
    "intraburst_vh_files = select_csv_files(root_path, 'vh', 'intraburst')\n",
    "\n",
    "df_intraburst_vh = create_dataframe(client, intraburst_vh_files)\n",
    "df_intraburst_vh = df_intraburst_vh.drop(columns=['Unnamed: 0']).dropna().reset_index(drop=True)\n",
    "df_intraburst_vh['safe'] = df_intraburst_vh['file_path'].map(get_safename)\n",
    "\n",
    "df_intraburst_vh.to_csv('/raw/intraburst/intrabursts_vh.csv', index=False)"
   ]
  },
  {
   "cell_type": "code",
   "execution_count": null,
   "id": "c26d611c",
   "metadata": {
    "tags": []
   },
   "outputs": [],
   "source": [
    "interburst_vv_files = select_csv_files(root_path, 'vv', 'interburst')\n",
    "\n",
    "df_interburst_vv = create_dataframe(client, interburst_vv_files)\n",
    "df_interburst_vv = df_interburst_vv.drop(columns=['Unnamed: 0']).dropna().reset_index(drop=True)\n",
    "df_interburst_vv['safe'] = df_interburst_vv['file_path'].map(get_safename)\n",
    "\n",
    "df_interburst_vv.to_csv('/raw/interburst/interbursts_vv.csv', index=False)"
   ]
  },
  {
   "cell_type": "code",
   "execution_count": null,
   "id": "6d56b313",
   "metadata": {
    "tags": []
   },
   "outputs": [],
   "source": [
    "interburst_vh_files = select_csv_files(root_path, 'vh', 'interburst')\n",
    "\n",
    "df_interburst_vh = create_dataframe(client, interburst_vh_files)\n",
    "df_interburst_vh = df_interburst_vh.drop(columns=['Unnamed: 0']).dropna().reset_index(drop=True)\n",
    "df_interburst_vh['safe'] = df_interburst_vh['file_path'].map(get_safename)\n",
    "\n",
    "df_interburst_vh.to_csv('/raw/interburst/interbursts_vh.csv', index=False)"
   ]
  },
  {
   "cell_type": "markdown",
   "id": "55f91bca",
   "metadata": {},
   "source": [
    "# **Merging**"
   ]
  },
  {
   "cell_type": "code",
   "execution_count": null,
   "id": "bebc5c70",
   "metadata": {
    "tags": []
   },
   "outputs": [],
   "source": [
    "import pandas as pd"
   ]
  },
  {
   "cell_type": "code",
   "execution_count": null,
   "id": "5cb796e3",
   "metadata": {
    "tags": []
   },
   "outputs": [],
   "source": [
    "merge_columns=['hs', 'phs0', 't0m1', 'incidence', 'ground_heading', 'land_flag', 'uwnd', 'vwnd', 'safe','longitude', 'latitude']\n",
    "\n",
    "df_intraburst = pd.merge(df_intraburst_vv, df_intraburst_vh,\n",
    "                         left_on=merge_columns,\n",
    "                         right_on=merge_columns,\n",
    "                         suffixes=['_vv', '_vh'])\n",
    "\n",
    "df_intraburst.to_csv('/raw/intraburst/intrabursts_dv.csv', index=False)"
   ]
  },
  {
   "cell_type": "code",
   "execution_count": null,
   "id": "aa7b298e",
   "metadata": {
    "tags": []
   },
   "outputs": [],
   "source": [
    "merge_columns=['hs', 'phs0', 't0m1', 'incidence', 'ground_heading', 'land_flag', 'uwnd', 'vwnd', 'safe','longitude', 'latitude']\n",
    "\n",
    "df_interburst = pd.merge(df_interburst_vv, df_interburst_vh,\n",
    "                         left_on=merge_columns,\n",
    "                         right_on=merge_columns,\n",
    "                         suffixes=['_vv', '_vh'])\n",
    "\n",
    "df_interburst.to_csv('/raw/interburst/interbursts_dv.csv', index=False)"
   ]
  }
 ],
 "metadata": {
  "kernelspec": {
   "display_name": "Python 3 (ipykernel)",
   "language": "python",
   "name": "python3"
  },
  "language_info": {
   "codemirror_mode": {
    "name": "ipython",
    "version": 3
   },
   "file_extension": ".py",
   "mimetype": "text/x-python",
   "name": "python",
   "nbconvert_exporter": "python",
   "pygments_lexer": "ipython3",
   "version": "3.11.0"
  }
 },
 "nbformat": 4,
 "nbformat_minor": 5
}
