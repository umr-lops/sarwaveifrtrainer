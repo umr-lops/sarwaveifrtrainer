{
 "cells": [
  {
   "cell_type": "code",
   "execution_count": null,
   "id": "46f80e45",
   "metadata": {
    "tags": []
   },
   "outputs": [],
   "source": [
    "%load_ext autoreload\n",
    "%autoreload 2\n",
    "\n",
    "import tensorflow as tf\n",
    "\n",
    "import json\n",
    "import os\n",
    "\n",
    "from sea_parameters import SeaParametersModel, custom_loss, cumulative_constraint_generalized, custom_categorical_crossentropy\n",
    "from validation_dataset import ValidationXarrayDataset, read_json"
   ]
  },
  {
   "cell_type": "markdown",
   "id": "a1afe01c",
   "metadata": {},
   "source": [
    "# **1 - Load data**"
   ]
  },
  {
   "cell_type": "code",
   "execution_count": null,
   "id": "1692f57f",
   "metadata": {
    "tags": []
   },
   "outputs": [],
   "source": [
    "data_folder = 'data_folder'"
   ]
  },
  {
   "cell_type": "code",
   "execution_count": null,
   "id": "8e3f27f1",
   "metadata": {
    "tags": []
   },
   "outputs": [],
   "source": [
    "model_wrapper = SeaParametersModel(data_folder=data_folder, batch_size=8092, epochs=50, patience=5)\n",
    "loss = custom_loss(model_wrapper.nb_classes, model_wrapper.batch_size, h=0.01)\n",
    "model_wrapper.build_model(loss)"
   ]
  },
  {
   "cell_type": "markdown",
   "id": "1d61ca9c",
   "metadata": {},
   "source": [
    "# **2 - Training**"
   ]
  },
  {
   "cell_type": "code",
   "execution_count": null,
   "id": "01d9abf9",
   "metadata": {
    "tags": []
   },
   "outputs": [],
   "source": [
    "model_wrapper.train_model()"
   ]
  },
  {
   "cell_type": "code",
   "execution_count": null,
   "id": "6ff332c0",
   "metadata": {},
   "outputs": [],
   "source": [
    "save_directory = model_wrapper.save_model(save_directory='trained_models')"
   ]
  },
  {
   "cell_type": "markdown",
   "id": "f4457c76",
   "metadata": {},
   "source": [
    "# **3 - Validation data**"
   ]
  },
  {
   "cell_type": "code",
   "execution_count": null,
   "id": "c4a0d304",
   "metadata": {},
   "outputs": [],
   "source": [
    "model = tf.keras.models.load_model(os.path.join(save_directory, 'model.keras'),\n",
    "                                   custom_objects={'loss': custom_loss(model_wrapper.nb_classes, model_wrapper.batch_size, h=0.01)})"
   ]
  },
  {
   "cell_type": "code",
   "execution_count": null,
   "id": "01884d01",
   "metadata": {},
   "outputs": [],
   "source": [
    "data_folder = read_json(os.path.join(save_directory, 'config.json'))['training_data']"
   ]
  },
  {
   "cell_type": "code",
   "execution_count": null,
   "id": "745e05e3",
   "metadata": {},
   "outputs": [],
   "source": [
    "val = ValidationXarrayDataset(model, data_folder)\n",
    "ds = val.generate_validation_dataset()\n",
    "ds = val.add_variables(ds, ['sigma0_filt', 'normalized_variance_filt', 'incidence', 'azimuth_cutoff'])"
   ]
  },
  {
   "cell_type": "code",
   "execution_count": null,
   "id": "95e25652",
   "metadata": {},
   "outputs": [],
   "source": [
    "ds.to_netcdf(os.path.join(save_directory, 'validation_predictions.nc'))"
   ]
  }
 ],
 "metadata": {
  "kernelspec": {
   "display_name": "Python 3 (ipykernel)",
   "language": "python",
   "name": "python3"
  },
  "language_info": {
   "codemirror_mode": {
    "name": "ipython",
    "version": 3
   },
   "file_extension": ".py",
   "mimetype": "text/x-python",
   "name": "python",
   "nbconvert_exporter": "python",
   "pygments_lexer": "ipython3",
   "version": "3.11.0"
  }
 },
 "nbformat": 4,
 "nbformat_minor": 5
}
