{
 "cells": [
  {
   "cell_type": "code",
   "execution_count": null,
   "id": "737e552a",
   "metadata": {
    "tags": []
   },
   "outputs": [],
   "source": [
    "import numpy as np\n",
    "import datetime\n",
    "import pytz\n",
    "import glob\n",
    "import os\n",
    "\n",
    "from sklearn.preprocessing import RobustScaler, MinMaxScaler, StandardScaler\n",
    "from dataset_creation_tools import generate_dataset_from_config, split_safes\n",
    "\n",
    "paris_timezone = pytz.timezone('Europe/Paris') # Set timezone, as it can be the wrong one on gpus"
   ]
  },
  {
   "cell_type": "markdown",
   "id": "6149c251",
   "metadata": {},
   "source": [
    "# **1 - SAFEs splitting**"
   ]
  },
  {
   "cell_type": "code",
   "execution_count": null,
   "id": "f1aa18f6",
   "metadata": {
    "tags": []
   },
   "outputs": [],
   "source": [
    "# load safes \n",
    "listing = 'dirname/listing_name.txt'\n",
    "safes = np.loadtxt(listing, dtype=str)"
   ]
  },
  {
   "cell_type": "code",
   "execution_count": null,
   "id": "cbaaf42b",
   "metadata": {
    "tags": []
   },
   "outputs": [],
   "source": [
    "# gather the test safes (not used for training nor validation)\n",
    "test_safes = np.concatenate([np.loadtxt(f, dtype=str) for f in glob.glob('case_studies/safes/*.txt')])"
   ]
  },
  {
   "cell_type": "code",
   "execution_count": null,
   "id": "a1e74c0b",
   "metadata": {
    "tags": []
   },
   "outputs": [],
   "source": [
    "# split the safes between training and validation (test_safes will be excluded)\n",
    "train_safes, val_safes = split_safes(safes, 0.10, test_safes=test_safes)"
   ]
  },
  {
   "cell_type": "code",
   "execution_count": null,
   "id": "1aded9da",
   "metadata": {
    "tags": []
   },
   "outputs": [],
   "source": [
    "# set save directory\n",
    "date = datetime.datetime.now(paris_timezone)\n",
    "root_path = f'savedir/{date.strftime(\"%Y-%m-%d_%Hh%M\")}'"
   ]
  },
  {
   "cell_type": "code",
   "execution_count": null,
   "id": "7588e8cb",
   "metadata": {
    "tags": []
   },
   "outputs": [],
   "source": [
    "# save the splitting used \n",
    "os.makedirs(root_path, exist_ok=True)\n",
    "np.savetxt(os.path.join(root_path, 'train_safes.txt'), train_safes, fmt='%s')\n",
    "np.savetxt(os.path.join(root_path, 'val_safes.txt'), val_safes, fmt='%s')\n",
    "np.savetxt(os.path.join(root_path, 'test_safes.txt'), test_safes, fmt='%s')"
   ]
  },
  {
   "cell_type": "markdown",
   "id": "039d0edf",
   "metadata": {},
   "source": [
    "# **2 - Create dataset**"
   ]
  },
  {
   "cell_type": "code",
   "execution_count": null,
   "id": "5b54a2bb",
   "metadata": {
    "tags": []
   },
   "outputs": [],
   "source": [
    "# scaler that can be used (only sklearn scalers for now)\n",
    "scaler_types = {\n",
    "    'RobustScaler': RobustScaler,\n",
    "    'MinMaxScaler': MinMaxScaler,\n",
    "    'StandardScaler': StandardScaler\n",
    "}"
   ]
  },
  {
   "cell_type": "code",
   "execution_count": null,
   "id": "b1dbadfd",
   "metadata": {
    "tags": []
   },
   "outputs": [],
   "source": [
    "# set up dataset generation configuration\n",
    "date = datetime.datetime.now(paris_timezone)\n",
    "\n",
    "config = { \n",
    "    'raw_csv': 'raw.csv',\n",
    "    'filter': 'normalized_variance_filt < 2 and 0 <= azimuth_cutoff <= 500',\n",
    "    'safes_listing': 'dirname/listing_name.txt',\n",
    "    'train_safes': f'{root_path}/train_safes.txt',\n",
    "    'val_safes': f'{root_path}/val_safes.txt',\n",
    "    'test_safes': f'{root_path}/test_safes.txt',\n",
    "    'bin_width': 0.1,\n",
    "    'scaler': {'name': 'RobustScaler', 'kwargs': {'quantile_range': (10, 90)}},\n",
    "    'kept_columns': ['hs', 'phs0', 't0m1', 'sigma0_filt', 'normalized_variance_filt', 'incidence', 'azimuth_cutoff', 'cwave_params_k_gp=1_and_phi_hf=1','cwave_params_k_gp=2_and_phi_hf=1','cwave_params_k_gp=3_and_phi_hf=1','cwave_params_k_gp=4_and_phi_hf=1', 'cwave_params_k_gp=1_and_phi_hf=2','cwave_params_k_gp=2_and_phi_hf=2','cwave_params_k_gp=3_and_phi_hf=2','cwave_params_k_gp=4_and_phi_hf=2', 'cwave_params_k_gp=1_and_phi_hf=3','cwave_params_k_gp=2_and_phi_hf=3','cwave_params_k_gp=3_and_phi_hf=3','cwave_params_k_gp=4_and_phi_hf=3', 'cwave_params_k_gp=1_and_phi_hf=4','cwave_params_k_gp=2_and_phi_hf=4','cwave_params_k_gp=3_and_phi_hf=4','cwave_params_k_gp=4_and_phi_hf=4', 'cwave_params_k_gp=1_and_phi_hf=5','cwave_params_k_gp=2_and_phi_hf=5','cwave_params_k_gp=3_and_phi_hf=5','cwave_params_k_gp=4_and_phi_hf=5', 'file_path', 'safe'],\n",
    "    'target_columns': ['hs', 'phs0', 't0m1'],\n",
    "    'save_directory': f'savedir/{date.strftime(\"%Y-%m-%d_%Hh%M\")}', # different save directory than the one for the splitting\n",
    "    'date': date.strftime('%d/%m/%Y %H:%M'),\n",
    "    'additional_informations': 'The raw input data was filtered such as the input normalized variance (filt) is inferior to 2 and the azimuth_cutoff is between 0 and 500m'\n",
    "    }"
   ]
  },
  {
   "cell_type": "code",
   "execution_count": null,
   "id": "219a913e",
   "metadata": {
    "tags": []
   },
   "outputs": [],
   "source": [
    "generate_dataset_from_config(config)"
   ]
  }
 ],
 "metadata": {
  "kernelspec": {
   "display_name": "Python 3 (ipykernel)",
   "language": "python",
   "name": "python3"
  },
  "language_info": {
   "codemirror_mode": {
    "name": "ipython",
    "version": 3
   },
   "file_extension": ".py",
   "mimetype": "text/x-python",
   "name": "python",
   "nbconvert_exporter": "python",
   "pygments_lexer": "ipython3",
   "version": "3.11.0"
  }
 },
 "nbformat": 4,
 "nbformat_minor": 5
}
